{
 "cells": [
  {
   "cell_type": "markdown",
   "metadata": {
    "tags": []
   },
   "source": [
    "# Rock Paper Scissors Spock Lizard Game\n",
    "\n",
    "\n",
    " This is a creative spin on the traditional rock paper scissors game, which includes additional lizard and spock options. The user plays against the computer. \n",
    "This project demonstrates an understanding of recursion and funcitonal programming in Python. \n",
    " \n",
    "\n",
    "## Game Set Up: \n",
    "\n",
    "1. The user and computer choose one of the following weapons:\n",
    "    - Rock (in red)\n",
    "    - Paper (in yellow)\n",
    "    - Scissors (in purple)\n",
    "    - Lizard (puppet-like hand, in green)\n",
    "    - Spock (Vulcan salutation, in blue)\n",
    "    \n",
    "2. Here are the winning outcomes: \n",
    "    - Rock: Wins against Lizard or Scissors (crushes the Lizard and breaks the Scissor)\n",
    "    - Paper: Wins against Spock or Rock (disproves Spock and wraps the Rock)\n",
    "    - Scissors: Wins against Lizard and Paper (kills the Lizard or cuts the Paper)\n",
    "    - Lizard: Wins against Spock and Paper (poisons Spock or eats the Paper)\n",
    "    - Spock: Wins against Rock and Paper (vaporizes the Rock and smashes the Scissors)\n",
    "\n",
    "![rpsls](https://upload.wikimedia.org/wikipedia/commons/a/ad/Pierre_ciseaux_feuille_l%C3%A9zard_spock_aligned.svg)"
   ]
  },
  {
   "cell_type": "code",
   "execution_count": 1,
   "metadata": {
    "tags": []
   },
   "outputs": [],
   "source": [
    "# import package\n",
    "import time\n",
    "import random\n",
    "\n",
    "# Set all choices for players to choose. \n",
    "actions = ['rock', 'paper', 'scissors','lizard', 'spock']"
   ]
  },
  {
   "cell_type": "markdown",
   "metadata": {},
   "source": [
    "## Start Game\n",
    "\n",
    "First, I created a function that receives the user's choice and checks that it is a valid input. \n",
    "\n",
    "If the user enters an invalid input, a ValueError is raised. \n",
    "\n",
    "- `help` if the user enters `help` as its argument.\n",
    "\n",
    "- `gameon` if the user enters something in the actions set.\n",
    "\n",
    "- Raise a `ValueError` if the user enters anything different than that."
   ]
  },
  {
   "cell_type": "code",
   "execution_count": 2,
   "metadata": {},
   "outputs": [
    {
     "ename": "NameError",
     "evalue": "name 'choice' is not defined",
     "output_type": "error",
     "traceback": [
      "\u001b[0;31m---------------------------------------------------------------------------\u001b[0m",
      "\u001b[0;31mNameError\u001b[0m                                 Traceback (most recent call last)",
      "Cell \u001b[0;32mIn[2], line 18\u001b[0m\n\u001b[1;32m     15\u001b[0m         \u001b[38;5;28;01mraise\u001b[39;00m \u001b[38;5;167;01mValueError\u001b[39;00m(\u001b[38;5;124mf\u001b[39m\u001b[38;5;124m\"\u001b[39m\u001b[38;5;124mInvalid choice: \u001b[39m\u001b[38;5;132;01m{\u001b[39;00mchoice\u001b[38;5;132;01m}\u001b[39;00m\u001b[38;5;124m. Please choose a valid option.\u001b[39m\u001b[38;5;124m\"\u001b[39m)\n\u001b[1;32m     17\u001b[0m \u001b[38;5;66;03m# Call the function to check user's choice\u001b[39;00m\n\u001b[0;32m---> 18\u001b[0m consist(choice)\n",
      "\u001b[0;31mNameError\u001b[0m: name 'choice' is not defined"
     ]
    }
   ],
   "source": [
    "def consist(choice):\n",
    "      \"\"\"This function checks if the user's choice is a valid action or 'help'.\n",
    "    It returns 'gameon' if the choice is a valid action, 'help' if the user asks for help,\n",
    "    and raises a ValueError if the choice is invalid.\n",
    "    \"\"\"\n",
    "    # Convert the user's choice to lowercase for case-insensitive matching\n",
    "    choice = choice.lower()\n",
    "\n",
    "    # Check if the choice is in the list of valid actions\n",
    "    if choice in actions:\n",
    "        return 'gameon'  # Return 'gameon' if the choice is valid\n",
    "\n",
    "    # If the user requests help, return 'help'\n",
    "    elif choice == 'help': \n",
    "        return 'help'\n",
    "\n",
    "    # Raise an error for an invalid choice\n",
    "    else:\n",
    "        raise ValueError(f\"Invalid choice: {choice}. Please choose a valid option.\")\n",
    "\n",
    "# Call the function to check user's choice\n",
    "consist(choice)\n"
   ]
  },
  {
   "cell_type": "markdown",
   "metadata": {},
   "source": [
    "## Opponent Function\n",
    "The `opponent` player is a function that spits out a randomly selected choice in the choice set for the computer play. "
   ]
  },
  {
   "cell_type": "code",
   "execution_count": null,
   "metadata": {},
   "outputs": [],
   "source": [
    "def opponent():\n",
    "    '''The `opponent` player is a function that spits out a randomly selected choice in \n",
    "        the choice set for the computer play.'''\n",
    "    # Select and return a random action from the list of available actions\n",
    "    return random.choice(actions)"
   ]
  },
  {
   "cell_type": "markdown",
   "metadata": {},
   "source": [
    "## Rock\n",
    "The rock function receives a play and returns `True` if the rock beats the play and `False` if it ties or the rock loses."
   ]
  },
  {
   "cell_type": "code",
   "execution_count": null,
   "metadata": {},
   "outputs": [],
   "source": [
    "def rock(play):\n",
    "    '''\n",
    "    The rock function determines whether the \"rock\" move wins, based on the opponent's play.\n",
    "\n",
    "    Parameters:\n",
    "    - play (str): The opponent's move, expected to be one of ['rock', 'paper', 'scissors', 'lizard', 'spock'].\n",
    "\n",
    "    Returns:\n",
    "    - bool: \n",
    "      - `True` if \"rock\" beats the opponent's move (i.e., when play is \"lizard\" or \"scissors\").\n",
    "      - `False` if \"rock\" ties or loses (i.e., when play is \"rock\", \"paper\", or \"spock\").\n",
    "    '''\n",
    "    return play in ['lizard', 'scissors']"
   ]
  },
  {
   "cell_type": "markdown",
   "metadata": {},
   "source": [
    "## Scissors\n",
    "The scissors function receives a play and returns `True` if scissors beats the play and `False` if it ties or the scissors loses."
   ]
  },
  {
   "cell_type": "code",
   "execution_count": null,
   "metadata": {},
   "outputs": [],
   "source": [
    "def scissors(play):\n",
    "    '''\n",
    "    The scissors function determines whether the \"scissors\" move wins, based on the opponent's play.\n",
    "\n",
    "    Parameters:\n",
    "    - play (str): The opponent's move, expected to be one of ['rock', 'paper', 'scissors', 'lizard', 'spock'].\n",
    "\n",
    "    Returns:\n",
    "    - bool: \n",
    "      - `True` if \"scissors\" beats the opponent's move (i.e., when play is \"lizard\" or \"paper\").\n",
    "      - `False` if \"scissors\" ties or loses (i.e., when play is \"rock\", \"scissors\", or \"spock\").\n",
    "    '''\n",
    "    return play in ['lizard', 'paper']"
   ]
  },
  {
   "cell_type": "markdown",
   "metadata": {},
   "source": [
    "## Paper\n",
    "The paper function receives a play and returns `True` if paper beats the play and `False` if it ties or the paper loses.\n"
   ]
  },
  {
   "cell_type": "code",
   "execution_count": null,
   "metadata": {},
   "outputs": [],
   "source": [
    "def paper(play):\n",
    "    '''\n",
    "    The paper function determines whether the \"paper\" move wins, based on the opponent's play.\n",
    "\n",
    "    Parameters:\n",
    "    - play (str): The opponent's move, expected to be one of ['rock', 'paper', 'scissors', 'lizard', 'spock'].\n",
    "\n",
    "    Returns:\n",
    "    - bool:\n",
    "      - `True` if \"paper\" beats the opponent's move (i.e., when play is \"spock\" or \"rock\").\n",
    "      - `False` if \"paper\" ties or loses (i.e., when play is \"paper\", \"scissors\", or \"lizard\").\n",
    "    '''\n",
    "    return play in ['spock', 'rock']\n"
   ]
  },
  {
   "cell_type": "markdown",
   "metadata": {},
   "source": [
    "# Lizard\n",
    "The lizard function receives a play and returns `True` if lizard beats the play and `False` if it ties or the lizard loses."
   ]
  },
  {
   "cell_type": "code",
   "execution_count": null,
   "metadata": {},
   "outputs": [],
   "source": [
    "def lizard(play):\n",
    "    '''\n",
    "    The lizard function determines whether the \"lizard\" move wins, based on the opponent's play.\n",
    "\n",
    "    Parameters:\n",
    "    - play (str): The opponent's move, expected to be one of ['rock', 'paper', 'scissors', 'lizard', 'spock'].\n",
    "\n",
    "    Returns:\n",
    "    - bool:\n",
    "      - `True` if \"lizard\" beats the opponent's move (i.e., when play is \"spock\" or \"paper\").\n",
    "      - `False` if \"lizard\" ties or loses (i.e., when play is \"rock\", \"scissors\", or \"lizard\").\n",
    "    '''\n",
    "    return play in ['spock', 'paper']\n",
    "\n",
    "    "
   ]
  },
  {
   "cell_type": "markdown",
   "metadata": {},
   "source": [
    "## Spock\n",
    "The spock function receives a play and returns `True` if spock beats the play and `False` if it ties or the spock loses."
   ]
  },
  {
   "cell_type": "code",
   "execution_count": null,
   "metadata": {},
   "outputs": [],
   "source": [
    "def spock(play):\n",
    "    '''\n",
    "    The spock function determines whether the \"spock\" move wins, based on the opponent's play.\n",
    "\n",
    "    Parameters:\n",
    "    - play (str): The opponent's move, expected to be one of ['rock', 'paper', 'scissors', 'lizard', 'spock'].\n",
    "\n",
    "    Returns:\n",
    "    - bool:\n",
    "      - `True` if \"spock\" beats the opponent's move (i.e., when play is \"rock\" or \"scissors\").\n",
    "      - `False` if \"spock\" ties or loses (i.e., when play is \"paper\", \"lizard\", or \"spock\").\n",
    "    '''\n",
    "    return play in ['rock', 'scissors']\n"
   ]
  },
  {
   "cell_type": "markdown",
   "metadata": {},
   "source": [
    "##  myplays Dictionary\n",
    "Saved the game functions (rock, scissors, paper, lizard, and spock) in a dictionary called `myplays`. The keys in the dictionary correspond to the names of these functions (e.g., 'rock', 'scissors', etc.), allowing for easy access to each function based on user input during gameplay."
   ]
  },
  {
   "cell_type": "code",
   "execution_count": null,
   "metadata": {},
   "outputs": [],
   "source": [
    "# Create a dictionary that maps each play option to its corresponding function\n",
    "myplays = dict(zip(\n",
    "    ['rock', 'scissors', 'paper', 'lizard', 'spock'],  # List of play options\n",
    "    [rock, scissors, paper, lizard, spock]  # List of corresponding functions for each play\n",
    "))"
   ]
  },
  {
   "cell_type": "markdown",
   "metadata": {},
   "source": [
    "## gameon Function\n",
    "The gameon function evaluates a round of a game between a player and the computer. It takes a dictionary of function mappings `myplays`, the player's choice `you`, and the computer's choice `comp`. \n",
    "\n",
    "The function calls the corresponding function for the player's move, checks for ties or wins, and returns a tuple indicating the outcome: either `you`, `computer`, or `Tie`, along with the choices made by both players."
   ]
  },
  {
   "cell_type": "code",
   "execution_count": null,
   "metadata": {},
   "outputs": [],
   "source": [
    "def gameon(myplays, you, comp):\n",
    "    '''\n",
    "    Determines the outcome of a game round between the player and the computer.\n",
    "\n",
    "    Parameters:\n",
    "    - myplays (dict): A dictionary mapping play options to their corresponding functions.\n",
    "    - you (str): The player's chosen move (one of the keys in myplays).\n",
    "    - comp (str): The computer's randomly chosen move.\n",
    "\n",
    "    Returns:\n",
    "    - tuple: A tuple containing the result of the game:\n",
    "      - If it's a tie, returns ('Tie', you, comp).\n",
    "      - If the player wins, returns ('you', you, comp).\n",
    "      - If the computer wins, returns ('computer', you, comp).\n",
    "    '''\n",
    "    # Call the function corresponding to the player's move with the computer's move as the argument\n",
    "    result = myplays[you](comp) \n",
    "\n",
    "    # Check if the player's move ties with the computer's move\n",
    "    if you == comp:\n",
    "        return ('Tie', you, comp)  # Return a tuple indicating a tie\n",
    "\n",
    "    # Check if the player's move wins against the computer's move\n",
    "    if result:\n",
    "        return ('you', you, comp)  # Return a tuple indicating the player wins\n",
    "    else:\n",
    "        return ('computer', you, comp)  # Return a tuple indicating the computer wins"
   ]
  },
  {
   "cell_type": "markdown",
   "metadata": {},
   "source": [
    "## hooray Function\n",
    "The hooray function generates a message based on the outcome of a game round. \n",
    "- It takes a tuple containing the game result (result), which includes the status (indicating if it's a tie, a player win, or a computer win) and the choices made by the player and the computer. \n",
    "- The function returns a formatted string that reflects the outcome, celebrating a win, acknowledging a tie, or encouraging the player after a loss."
   ]
  },
  {
   "cell_type": "code",
   "execution_count": null,
   "metadata": {},
   "outputs": [],
   "source": [
    "def hooray(result):\n",
    "    '''\n",
    "    Generates a message based on the outcome of the game round.\n",
    "\n",
    "    Parameters:\n",
    "    - result (tuple): A tuple containing the outcome of the game, including:\n",
    "      - status (str): The result type ('Tie', 'you', or 'computer').\n",
    "      - you (str): The player's chosen move.\n",
    "      - comp (str): The computer's chosen move.\n",
    "\n",
    "    Returns:\n",
    "    - str: A message reflecting the outcome of the game round.\n",
    "    '''\n",
    "    \n",
    "    # Unpack the result tuple into its components: status, player's choice, and computer's choice\n",
    "    status, you, comp = result\n",
    "    \n",
    "    # Check if the game resulted in a tie\n",
    "    if status == 'Tie':\n",
    "        return f\"You both chose {you}. It's a tie!\"  # Return a message indicating a tie\n",
    "\n",
    "    # Check if the player won the game\n",
    "    elif status == 'you':\n",
    "        return f\"You chose {you}. The computer chose {comp}. Hooray, you won!\"  # Return a winning message\n",
    "\n",
    "    # If the player did not win, it means the computer won\n",
    "    else:\n",
    "        return f\"You chose {you}. The computer chose {comp}. Oh no, you lost... Better luck next time!\"  # Return a losing message\n"
   ]
  },
  {
   "cell_type": "markdown",
   "metadata": {},
   "source": [
    "## Prompt Function\n",
    "\n",
    "The myprompt function prompts the user to choose a weapon for the game or to stop playing. It converts the user input to lowercase for consistent comparison and checks if the user wants to stop. If the user requests help, the function calls the myhelp function to display game instructions. Otherwise, it processes the user's choice, determines the game outcome using the gameon function, and displays the result using the hooray function. The function recursively calls itself to allow for continuous input until the user decides to stop."
   ]
  },
  {
   "cell_type": "code",
   "execution_count": null,
   "metadata": {},
   "outputs": [],
   "source": [
    "# A prompt function for user input\n",
    "def myprompt():\n",
    "    # Prompt the user to choose a weapon or to stop the game\n",
    "    x = input(\"Choose a weapon or stop: >> \")\n",
    "    x = x.lower()  # Convert user input to lowercase for consistent comparison\n",
    "\n",
    "    # Check if the user wants to stop the game\n",
    "    if x == 'stop':\n",
    "        print('\\n\\nThanks for playing. See you next time!', end = '\\n\\n')\n",
    "        return None  # Exit the function if the user chooses to stop\n",
    "\n",
    "    try:\n",
    "        # Check if the user requested help\n",
    "        if consist(x) == 'help':\n",
    "            myhelp()  # Call the help function to display options\n",
    "        else:\n",
    "            # Display the outcome of the game using the hooray function\n",
    "            print(hooray(gameon(myplays, mythrill(x), opponent())))\n",
    "    except:\n",
    "        # Handle any exceptions that occur during input processing\n",
    "        print(\"\\nThis selection is invalid. Type 'help' to check your options or 'stop' to stop the game.\\n\")\n",
    "    \n",
    "    myprompt()  # Recursively call myprompt to allow for another input\n",
    "\n",
    "# A thriller function to create excitement for the game\n",
    "def mythrill(mychoice):\n",
    "    print('\\n\\nAlright. ', end = '')\n",
    "    time.sleep(1)  # Pause for dramatic effect\n",
    "    print('Now shout with me: ', end = '')\n",
    "    time.sleep(1)  # Pause for dramatic effect\n",
    "    print('...Rock...', end = '')\n",
    "    time.sleep(0.5)  # Short pause between prompts\n",
    "    print('...Paper...', end = '')\n",
    "    time.sleep(0.5)\n",
    "    print('...Scissors...', end = '')\n",
    "    time.sleep(0.5)\n",
    "    print('...Lizard...', end = '')\n",
    "    time.sleep(0.5)\n",
    "    print('...Spock!', end = '\\n\\n')  # Final prompt with newline\n",
    "    time.sleep(1)  # Pause before returning\n",
    "    return mychoice  # Return the user's choice\n",
    "\n",
    "# A help function to display game instructions\n",
    "def myhelp():\n",
    "    myhelpstr = \"\"\"\n",
    "This is my Rock-Paper-Scissors-Lizard-Spock game.\n",
    "\n",
    "You can select among the following weapons:\n",
    "\n",
    "1. Rock: It wins against Lizard or Scissors (crushes the Lizard and breaks the Scissor)\n",
    "\n",
    "2. Paper: Wins against Spock or Rock (disproves Spock and wraps the Rock)\n",
    "\n",
    "3. Scissors: Wins against Lizard and Paper (kills the Lizard or cuts the Paper)\n",
    "\n",
    "4. Lizard: Wins against Spock and Paper (poisons Spock or eats the Paper)\n",
    "\n",
    "5. Spock: Wins against Rock and Paper (vaporizes the Rock and smashes the Scissors)\n",
    "\n",
    "To choose a weapon, just type its name. No need to type in lower or upper case. The prompt is smart \n",
    "enough to choose the right action here.\n",
    "\n",
    "When you are done, you can leave the game by typing 'stop'.\n",
    "\n",
    "Game on!\n",
    "\"\"\"\n",
    "    print('\\n\\n')  # Add spacing before displaying help text\n",
    "    print(myhelpstr, end = '\\n\\n')  # Print the help text with additional spacing\n"
   ]
  },
  {
   "cell_type": "markdown",
   "metadata": {},
   "source": [
    "## Play the Game! \n",
    "Run this cell to play the game below!"
   ]
  },
  {
   "cell_type": "code",
   "execution_count": 11,
   "metadata": {},
   "outputs": [
    {
     "name": "stdout",
     "output_type": "stream",
     "text": [
      "Choose a weapon or type 'stop' to exit: >> rock\n",
      "\n",
      "\n",
      "Alright. Now shout with me: ...Rock......Paper......Scissors......Lizard......Spock!\n",
      "\n",
      "You both chose rock. It's a tie!\n",
      "Choose a weapon or type 'stop' to exit: >> paper\n",
      "\n",
      "\n",
      "Alright. Now shout with me: ...Rock......Paper......Scissors......Lizard......Spock!\n",
      "\n",
      "You both chose paper. It's a tie!\n",
      "Choose a weapon or type 'stop' to exit: >> scissors\n",
      "\n",
      "\n",
      "Alright. Now shout with me: ...Rock......Paper......Scissors......Lizard......Spock!\n",
      "\n",
      "You chose scissors. The computer chose rock. Oh no, you lost... Better luck next time!\n",
      "Choose a weapon or type 'stop' to exit: >> hi\n",
      "\n",
      "Invalid choice: hi. Please choose a valid option.\n",
      "Type 'help' to check your options or 'stop' to stop the game.\n",
      "\n",
      "Choose a weapon or type 'stop' to exit: >> help\n",
      "\n",
      "\n",
      "\n",
      "\n",
      "This is my Rock-Paper-Scissors-Lizard-Spock game.\n",
      "\n",
      "You can select among the following weapons:\n",
      "\n",
      "1. Rock: It wins against Lizard or Scissors (crushes the Lizard and breaks the Scissors)\n",
      "2. Paper: Wins against Spock or Rock (disproves Spock and wraps the Rock)\n",
      "3. Scissors: Wins against Lizard and Paper (kills the Lizard or cuts the Paper)\n",
      "4. Lizard: Wins against Spock and Paper (poisons Spock or eats the Paper)\n",
      "5. Spock: Wins against Rock and Scissors (vaporizes the Rock and smashes the Scissors)\n",
      "\n",
      "To choose a weapon, just type its name. No need to type in lower or upper case. The prompt is smart enough to choose the right action here.\n",
      "\n",
      "When you are done, you can leave the game by typing 'stop'.\n",
      "\n",
      "Game on!\n",
      "\n",
      "\n",
      "Choose a weapon or type 'stop' to exit: >> stop\n",
      "\n",
      "\n",
      "Thanks for playing. See you next time!\n",
      "\n",
      "\n"
     ]
    }
   ],
   "source": [
    "#PROTOTYPE\n",
    "\n",
    "import time\n",
    "import random\n",
    "\n",
    "# Set of choices\n",
    "actions = ['rock', 'paper', 'scissors', 'lizard', 'spock']\n",
    "\n",
    "# Player move validation\n",
    "def consist(choice):\n",
    "    choice = choice.lower()\n",
    "    if choice in actions:\n",
    "        return 'gameon'\n",
    "    elif choice == 'help': \n",
    "        return 'help'\n",
    "    else:\n",
    "        raise ValueError(f\"Invalid choice: {choice}. Please choose a valid option.\")\n",
    "\n",
    "# Opponent move generation\n",
    "def opponent():\n",
    "    return random.choice(actions)\n",
    "\n",
    "# Individual game logic functions\n",
    "def rock(play):\n",
    "    return play in ['lizard', 'scissors']\n",
    "\n",
    "def scissors(play):\n",
    "    return play in ['lizard', 'paper']\n",
    "\n",
    "def paper(play):\n",
    "    return play in ['spock', 'rock']\n",
    "\n",
    "def lizard(play):\n",
    "    return play in ['spock', 'paper']\n",
    "\n",
    "def spock(play):\n",
    "    return play in ['rock', 'scissors']\n",
    "\n",
    "# Dictionary mapping moves to their corresponding functions\n",
    "myplays = {\n",
    "    'rock': rock,\n",
    "    'scissors': scissors,\n",
    "    'paper': paper,\n",
    "    'lizard': lizard,\n",
    "    'spock': spock\n",
    "}\n",
    "\n",
    "# Main game function to determine the winner\n",
    "def gameon(myplays, you, comp):\n",
    "    result = myplays[you](comp)\n",
    "    if you == comp:\n",
    "        return ('Tie', you, comp)\n",
    "    elif result:\n",
    "        return ('you', you, comp)\n",
    "    else:\n",
    "        return ('computer', you, comp)\n",
    "\n",
    "# Prompt function to handle player input\n",
    "def myprompt():\n",
    "    x = input(\"Choose a weapon or type 'stop' to exit: >> \")\n",
    "    x = x.lower()\n",
    "    if x == 'stop':\n",
    "        print('\\n\\nThanks for playing. See you next time!\\n\\n')\n",
    "        return None\n",
    "    try:\n",
    "        if consist(x) == 'help':\n",
    "            myhelp()\n",
    "        else:\n",
    "            print(hooray(gameon(myplays, mythrill(x), opponent())))\n",
    "    except ValueError as e:\n",
    "        print(f\"\\n{e}\\nType 'help' to check your options or 'stop' to stop the game.\\n\")\n",
    "    myprompt()\n",
    "\n",
    "# Adds some excitement with a delay and a chant\n",
    "def mythrill(mychoice):\n",
    "    print('\\n\\nAlright. ', end='')\n",
    "    time.sleep(1)\n",
    "    print('Now shout with me: ', end='')\n",
    "    time.sleep(1)\n",
    "    print('...Rock...', end='')\n",
    "    time.sleep(0.5)\n",
    "    print('...Paper...', end='')\n",
    "    time.sleep(0.5)\n",
    "    print('...Scissors...', end='')\n",
    "    time.sleep(0.5)\n",
    "    print('...Lizard...', end='')\n",
    "    time.sleep(0.5)\n",
    "    print('...Spock!', end='\\n\\n')\n",
    "    time.sleep(1)\n",
    "    return mychoice\n",
    "\n",
    "# Display help instructions\n",
    "def myhelp():\n",
    "    myhelpstr = \"\"\"\n",
    "This is my Rock-Paper-Scissors-Lizard-Spock game.\n",
    "\n",
    "You can select among the following weapons:\n",
    "\n",
    "1. Rock: It wins against Lizard or Scissors (crushes the Lizard and breaks the Scissors)\n",
    "2. Paper: Wins against Spock or Rock (disproves Spock and wraps the Rock)\n",
    "3. Scissors: Wins against Lizard and Paper (kills the Lizard or cuts the Paper)\n",
    "4. Lizard: Wins against Spock and Paper (poisons Spock or eats the Paper)\n",
    "5. Spock: Wins against Rock and Scissors (vaporizes the Rock and smashes the Scissors)\n",
    "\n",
    "To choose a weapon, just type its name. No need to type in lower or upper case. The prompt is smart enough to choose the right action here.\n",
    "\n",
    "When you are done, you can leave the game by typing 'stop'.\n",
    "\n",
    "Game on!\n",
    "\"\"\"\n",
    "    print('\\n\\n')\n",
    "    print(myhelpstr, end='\\n\\n')\n",
    "\n",
    "# Output the result of the game\n",
    "def hooray(result):\n",
    "    status, you, comp = result\n",
    "    if status == 'Tie':\n",
    "        return f\"You both chose {you}. It's a tie!\"\n",
    "    elif status == 'you':\n",
    "        return f\"You chose {you}. The computer chose {comp}. Hooray, you won!\"\n",
    "    else:\n",
    "        return f\"You chose {you}. The computer chose {comp}. Oh no, you lost... Better luck next time!\"\n",
    "\n",
    "# Start the game\n",
    "myprompt()"
   ]
  },
  {
   "cell_type": "code",
   "execution_count": null,
   "metadata": {},
   "outputs": [],
   "source": []
  }
 ],
 "metadata": {
  "kernelspec": {
   "display_name": "Python 3 (ipykernel)",
   "language": "python",
   "name": "python3"
  },
  "language_info": {
   "codemirror_mode": {
    "name": "ipython",
    "version": 3
   },
   "file_extension": ".py",
   "mimetype": "text/x-python",
   "name": "python",
   "nbconvert_exporter": "python",
   "pygments_lexer": "ipython3",
   "version": "3.11.0"
  },
  "varInspector": {
   "cols": {
    "lenName": 16,
    "lenType": 16,
    "lenVar": 40
   },
   "kernels_config": {
    "python": {
     "delete_cmd_postfix": "",
     "delete_cmd_prefix": "del ",
     "library": "var_list.py",
     "varRefreshCmd": "print(var_dic_list())"
    },
    "r": {
     "delete_cmd_postfix": ") ",
     "delete_cmd_prefix": "rm(",
     "library": "var_list.r",
     "varRefreshCmd": "cat(var_dic_list()) "
    }
   },
   "types_to_exclude": [
    "module",
    "function",
    "builtin_function_or_method",
    "instance",
    "_Feature"
   ],
   "window_display": false
  }
 },
 "nbformat": 4,
 "nbformat_minor": 4
}
