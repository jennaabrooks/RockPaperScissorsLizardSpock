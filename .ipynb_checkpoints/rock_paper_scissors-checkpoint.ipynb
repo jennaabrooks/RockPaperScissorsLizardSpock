{
 "cells": [
  {
   "cell_type": "markdown",
   "metadata": {
    "tags": []
   },
   "source": [
    "# Rock Paper Scissors Game\n",
    "\n",
    "\n",
    " This is a creative spin on the traditional rock paper scissors game, which includes additional lizard and spock options. The user plays against the computer. \n",
    "This project demonstrates an understanding of recursion and funcitonal programming in Python. \n",
    " \n",
    "\n",
    "## Game Set Up: \n",
    "\n",
    "1. The user and computer choose one of the following weapons:\n",
    "    - Rock (in red)\n",
    "    - Paper (in yellow)\n",
    "    - Scissors (in purple)\n",
    "    - Lizard (puppet-like hand, in green)\n",
    "    - Spock (Vulcan salutation, in blue)\n",
    "    \n",
    "2. Here are the winning outcomes: \n",
    "    - Rock: Wins against Lizard or Scissors (crushes the Lizard and breaks the Scissor)\n",
    "    - Paper: Wins against Spock or Rock (disproves Spock and wraps the Rock)\n",
    "    - Scissors: Wins against Lizard and Paper (kills the Lizard or cuts the Paper)\n",
    "    - Lizard: Wins against Spock and Paper (poisons Spock or eats the Paper)\n",
    "    - Spock: Wins against Rock and Paper (vaporizes the Rock and smashes the Scissors)\n",
    "\n",
    "![rpsls](https://upload.wikimedia.org/wikipedia/commons/a/ad/Pierre_ciseaux_feuille_l%C3%A9zard_spock_aligned.svg)"
   ]
  },
  {
   "cell_type": "code",
   "execution_count": 1,
   "metadata": {
    "tags": []
   },
   "outputs": [],
   "source": [
    "# import package\n",
    "import time\n",
    "import random\n",
    "\n",
    "# Set all choices for players to choose. \n",
    "actions = ['rock', 'paper', 'scissors','lizard', 'spock']"
   ]
  },
  {
   "cell_type": "markdown",
   "metadata": {},
   "source": [
    "## Start Game\n",
    "\n",
    "First, I created a function that receives the user's choice and checks that it is a valid input. \n",
    "\n",
    "If the user enters an invalid input, a ValueError is raised. \n",
    "\n",
    "- `help` if the user enters `help` as its argument.\n",
    "\n",
    "- `gameon` if the user enters something in the actions set.\n",
    "\n",
    "- Raise a `ValueError` if the user enters anything different than that."
   ]
  },
  {
   "cell_type": "code",
   "execution_count": 2,
   "metadata": {},
   "outputs": [
    {
     "ename": "NameError",
     "evalue": "name 'choice' is not defined",
     "output_type": "error",
     "traceback": [
      "\u001b[0;31m---------------------------------------------------------------------------\u001b[0m",
      "\u001b[0;31mNameError\u001b[0m                                 Traceback (most recent call last)",
      "Cell \u001b[0;32mIn[2], line 18\u001b[0m\n\u001b[1;32m     15\u001b[0m         \u001b[38;5;28;01mraise\u001b[39;00m \u001b[38;5;167;01mValueError\u001b[39;00m(\u001b[38;5;124mf\u001b[39m\u001b[38;5;124m\"\u001b[39m\u001b[38;5;124mInvalid choice: \u001b[39m\u001b[38;5;132;01m{\u001b[39;00mchoice\u001b[38;5;132;01m}\u001b[39;00m\u001b[38;5;124m. Please choose a valid option.\u001b[39m\u001b[38;5;124m\"\u001b[39m)\n\u001b[1;32m     17\u001b[0m \u001b[38;5;66;03m# Call the function to check user's choice\u001b[39;00m\n\u001b[0;32m---> 18\u001b[0m consist(choice)\n",
      "\u001b[0;31mNameError\u001b[0m: name 'choice' is not defined"
     ]
    }
   ],
   "source": [
    "def consist(choice):\n",
    "      \"\"\"This function checks if the user's choice is a valid action or 'help'.\n",
    "    It returns 'gameon' if the choice is a valid action, 'help' if the user asks for help,\n",
    "    and raises a ValueError if the choice is invalid.\n",
    "    \"\"\"\n",
    "    # Convert the user's choice to lowercase for case-insensitive matching\n",
    "    choice = choice.lower()\n",
    "\n",
    "    # Check if the choice is in the list of valid actions\n",
    "    if choice in actions:\n",
    "        return 'gameon'  # Return 'gameon' if the choice is valid\n",
    "\n",
    "    # If the user requests help, return 'help'\n",
    "    elif choice == 'help': \n",
    "        return 'help'\n",
    "\n",
    "    # Raise an error for an invalid choice\n",
    "    else:\n",
    "        raise ValueError(f\"Invalid choice: {choice}. Please choose a valid option.\")\n",
    "\n",
    "# Call the function to check user's choice\n",
    "consist(choice)\n"
   ]
  },
  {
   "cell_type": "markdown",
   "metadata": {},
   "source": [
    "## Opponent Function\n",
    "The `opponent` player is a function that spits out a randomly selected choice in the choice set for the computer play. "
   ]
  },
  {
   "cell_type": "code",
   "execution_count": null,
   "metadata": {},
   "outputs": [],
   "source": [
    "def opponent():\n",
    "    '''The `opponent` player is a function that spits out a randomly selected choice in \n",
    "        the choice set for the computer play.'''\n",
    "    # Select and return a random action from the list of available actions\n",
    "    return random.choice(actions)"
   ]
  },
  {
   "cell_type": "markdown",
   "metadata": {},
   "source": [
    "## Rock\n",
    "The rock function receives a play and returns `True` if the rock beats the play and `False` if it ties or the rock loses."
   ]
  },
  {
   "cell_type": "code",
   "execution_count": null,
   "metadata": {},
   "outputs": [],
   "source": [
    "def rock(play):\n",
    "    '''\n",
    "    The rock function determines whether the \"rock\" move wins, based on the opponent's play.\n",
    "\n",
    "    Parameters:\n",
    "    - play (str): The opponent's move, expected to be one of ['rock', 'paper', 'scissors', 'lizard', 'spock'].\n",
    "\n",
    "    Returns:\n",
    "    - bool: \n",
    "      - `True` if \"rock\" beats the opponent's move (i.e., when play is \"lizard\" or \"scissors\").\n",
    "      - `False` if \"rock\" ties or loses (i.e., when play is \"rock\", \"paper\", or \"spock\").\n",
    "    '''\n",
    "    return play in ['lizard', 'scissors']"
   ]
  },
  {
   "cell_type": "markdown",
   "metadata": {},
   "source": [
    "## Scissors\n",
    "The scissors function receives a play and returns `True` if scissors beats the play and `False` if it ties or the scissors loses."
   ]
  },
  {
   "cell_type": "code",
   "execution_count": null,
   "metadata": {},
   "outputs": [],
   "source": [
    "def scissors(play):\n",
    "    '''\n",
    "    The scissors function determines whether the \"scissors\" move wins, based on the opponent's play.\n",
    "\n",
    "    Parameters:\n",
    "    - play (str): The opponent's move, expected to be one of ['rock', 'paper', 'scissors', 'lizard', 'spock'].\n",
    "\n",
    "    Returns:\n",
    "    - bool: \n",
    "      - `True` if \"scissors\" beats the opponent's move (i.e., when play is \"lizard\" or \"paper\").\n",
    "      - `False` if \"scissors\" ties or loses (i.e., when play is \"rock\", \"scissors\", or \"spock\").\n",
    "    '''\n",
    "    return play in ['lizard', 'paper']"
   ]
  },
  {
   "cell_type": "markdown",
   "metadata": {},
   "source": [
    "## Paper\n",
    "The paper function receives a play and returns `True` if paper beats the play and `False` if it ties or the paper loses.\n"
   ]
  },
  {
   "cell_type": "code",
   "execution_count": null,
   "metadata": {},
   "outputs": [],
   "source": [
    "def paper(play):\n",
    "    '''\n",
    "    The paper function determines whether the \"paper\" move wins, based on the opponent's play.\n",
    "\n",
    "    Parameters:\n",
    "    - play (str): The opponent's move, expected to be one of ['rock', 'paper', 'scissors', 'lizard', 'spock'].\n",
    "\n",
    "    Returns:\n",
    "    - bool:\n",
    "      - `True` if \"paper\" beats the opponent's move (i.e., when play is \"spock\" or \"rock\").\n",
    "      - `False` if \"paper\" ties or loses (i.e., when play is \"paper\", \"scissors\", or \"lizard\").\n",
    "    '''\n",
    "    return play in ['spock', 'rock']\n"
   ]
  },
  {
   "cell_type": "markdown",
   "metadata": {},
   "source": [
    "# Lizard\n",
    "The lizard function receives a play and returns `True` if lizard beats the play and `False` if it ties or the lizard loses."
   ]
  },
  {
   "cell_type": "code",
   "execution_count": null,
   "metadata": {},
   "outputs": [],
   "source": [
    "def lizard(play):\n",
    "    return play in ['spock', 'paper']\n",
    "\n",
    "\n",
    "    "
   ]
  },
  {
   "cell_type": "markdown",
   "metadata": {},
   "source": [
    "**Question 7:** Implement a function called `spock`. It receives a play and returns `True` if the spock beats the play and `False` if it ties or spock loses."
   ]
  },
  {
   "cell_type": "code",
   "execution_count": null,
   "metadata": {},
   "outputs": [],
   "source": [
    "def spock(play):\n",
    "    return play in ['rock', 'scissors']\n",
    "#     if play == 'rock' or play == 'paper': # Explicit comparison\n",
    "#         return True\n",
    "#     elif play == 'spock': # TIE\n",
    "#         return False\n",
    "#     else: \n",
    "#         return False\n",
    "\n",
    "# play = 'spock'\n",
    "# spock(play) \n",
    "    "
   ]
  },
  {
   "cell_type": "markdown",
   "metadata": {},
   "source": [
    "**Question 8:** Save the functions in a dictionary called `myplays`. The keys in the dictionary has to have the same names as these functions. Hint: It should be a one-line solution using `dict` and `zip`."
   ]
  },
  {
   "cell_type": "code",
   "execution_count": null,
   "metadata": {},
   "outputs": [],
   "source": [
    "myplays = dict(zip(['rock', 'scissors', 'paper', 'lizard', 'spock'], [rock, scissors, paper, lizard, spock]))"
   ]
  },
  {
   "cell_type": "markdown",
   "metadata": {},
   "source": [
    "**Question 9:** Now we implement the `gameon` function. This function has to receive:\n",
    "\n",
    "1. The dictionary with functions\n",
    "\n",
    "2. The two choices\n",
    "\n",
    "Then, based on that, it has to determine the winner. The function should return a tuple with three elements:\n",
    "\n",
    "Element 1: One of the three:\n",
    "\n",
    "1. `you`: E.g., you played `spock` and the computer played `rock`\n",
    "\n",
    "2. `computer`: E.g., you played `lizard` and the computer played `scissors`\n",
    "\n",
    "3. `tie`: E.g., both you and the computer played `paper`.\n",
    "\n",
    "Element 2: Your choice\n",
    "\n",
    "Element 3: Computer's choice\n",
    "\n",
    "Example:\n",
    "\n",
    "```\n",
    ">> gameon(myplays, 'rock', 'paper')\n",
    "('computer', 'rock', 'paper')\n",
    "```"
   ]
  },
  {
   "cell_type": "code",
   "execution_count": null,
   "metadata": {},
   "outputs": [],
   "source": [
    "def gameon(myplays, you, comp):\n",
    "    result = myplays[you](comp) \n",
    "    if you == comp:\n",
    "        return (('Tie', you, comp))\n",
    "    if result:\n",
    "        return ('you', you, comp)\n",
    "    else:\n",
    "        return ('computer', you, comp)\n",
    "    \n",
    "#gameon(myplays, 'scissors', 'paper')\n",
    "\n"
   ]
  },
  {
   "cell_type": "code",
   "execution_count": null,
   "metadata": {},
   "outputs": [],
   "source": [
    "# # Determine Outcome: Determine Outcome:\n",
    "# Determine Outcome: Determine Outcome:\n",
    "\n",
    "# Use the player’s choice (your_choice) to retrieve the corresponding function from the myplays dictionary.\n",
    "# Call this function with the computer’s choice as an argument.\n",
    "# If the function returns True, it means the player wins, so return ('you', your_choice, computer_choice).\n",
    "# If the function returns False, the computer wins, so return ('computer', your_choice, computer_choice).\n",
    "    "
   ]
  },
  {
   "cell_type": "markdown",
   "metadata": {},
   "source": [
    "**Question 10:** Write the `hooray` function. It takes the winner and celebrates them. It receives the result from the `gameon` function (a tuple), and it prints:\n",
    "\n",
    "```\n",
    "You choose: [YOUR CHOICE]\n",
    "The computer chose: [COMPUTER'S CHOICE]\n",
    "\n",
    "[INSPIRATION HERE]\n",
    "```\n",
    "\n",
    "- If `you` win, then the inspiration should be: `Hooray, you won!`\n",
    "\n",
    "- If the `computer` wins, then the inspiration should be: `Oh no, you lost... Better luck next time!`\n",
    "\n",
    "- If it was a `tie`, then the inspiration should be: `It was a tie. Keep up, you got this!`\n",
    "\n",
    "An example of an output would be:\n",
    "\n",
    "```\n",
    "You choose: Rock\n",
    "The computer chose: Spock\n",
    "\n",
    "Oh no, you lost... Better luck next time!\n",
    "```"
   ]
  },
  {
   "cell_type": "code",
   "execution_count": null,
   "metadata": {},
   "outputs": [],
   "source": [
    "# def hooray(result):\n",
    "    \n",
    "#     if result: \n",
    "#                 f\"\"\"\n",
    "#         You chose: {you}\n",
    "#         The computer chose: {comp}\n",
    "\n",
    "#         Hooray, you won!\n",
    "#         \"\"\"\n",
    "#     elif result == False: \n",
    "#                         f\"\"\"\n",
    "#         You chose: {you}\n",
    "#         The computer chose: {comp}\n",
    "\n",
    "#         Oh no, you lost... Better luck next time!\"\"\"\n",
    "    "
   ]
  },
  {
   "cell_type": "code",
   "execution_count": null,
   "metadata": {},
   "outputs": [],
   "source": [
    "def hooray(result):\n",
    "    status, you, comp = result\n",
    "    if status == 'Tie':\n",
    "        return f\"You both chose {you}. It's a tie!\"\n",
    "    elif status == 'you':\n",
    "        return f\"You chose {you}. The computer chose {comp}. Hooray, you won!\"\n",
    "    else:\n",
    "        return f\"You chose {you}. The computer chose {comp}. Oh no, you lost... Better luck next time!\"\n"
   ]
  },
  {
   "cell_type": "code",
   "execution_count": null,
   "metadata": {},
   "outputs": [],
   "source": [
    "myprompt()\n",
    "    "
   ]
  },
  {
   "cell_type": "markdown",
   "metadata": {},
   "source": [
    "Now, let's play the game!"
   ]
  },
  {
   "cell_type": "code",
   "execution_count": null,
   "metadata": {},
   "outputs": [],
   "source": [
    "# A prompt function for you\n",
    "def myprompt():\n",
    "    x = input(\"Choose a weapon or stop: >> \")\n",
    "    x = x.lower()\n",
    "    if x == 'stop':\n",
    "        print('\\n\\nThanks for playing. See you next time!', end = '\\n\\n')\n",
    "        return None\n",
    "    try:\n",
    "        if consist(x) == 'help':\n",
    "            myhelp()\n",
    "        else:\n",
    "            # And this is why using FP is cool:\n",
    "            print(hooray(gameon(myplays, mythrill(x), opponent())))\n",
    "    except:\n",
    "        print(\"\\nThis selection is invalid. Type 'help' to check your options or 'stop' to stop the game.\\n\")\n",
    "    myprompt()\n",
    "    \n",
    "\n",
    "# A thriller function\n",
    "def mythrill(mychoice):\n",
    "    print('\\n\\nAlright. ', end = '')\n",
    "    time.sleep(1)\n",
    "    print('Now shout with me: ', end = '')\n",
    "    time.sleep(1)\n",
    "    print('...Rock...', end = '')\n",
    "    time.sleep(0.5)\n",
    "    print('...Paper...', end = '')\n",
    "    time.sleep(0.5)\n",
    "    print('...Scissors...', end = '')\n",
    "    time.sleep(0.5)\n",
    "    print('...Lizard...', end = '')\n",
    "    time.sleep(0.5)\n",
    "    print('...Spock!', end = '\\n\\n')\n",
    "    time.sleep(1)\n",
    "    return mychoice\n",
    "\n",
    "# A help function for you\n",
    "def myhelp():\n",
    "    myhelpstr = \"\"\"\n",
    "This is my Rock-Paper-Scissors-Lizard-Spock game.\n",
    "\n",
    "You can select among the following weapons:\n",
    "\n",
    "1. Rock: It wins against Lizard or Scissors (crushes the Lizard and breaks the Scissor)\n",
    "\n",
    "2. Paper: Wins against Spock or Rock (disproves Spock and wraps the Rock)\n",
    "\n",
    "3. Scissors: Wins against Lizard and Paper (kills the Lizard or cuts the Paper)\n",
    "\n",
    "4. Lizard: Wins against Spock and Paper (poisons Spock or eats the Paper)\n",
    "\n",
    "5. Spock: Wins against Rock and Paper (vaporizes the Rock and smashes the Scissors)\n",
    "\n",
    "To choose a weapon, just type its name. No need to type in lower or upper case. The prompt is smart \n",
    "enough to choose the right action here.\n",
    "\n",
    "When you are done, you can leave the game by typing 'stop'.\n",
    "\n",
    "Game on!\n",
    "\"\"\"\n",
    "    print('\\n\\n')\n",
    "    print(myhelpstr, end = '\\n\\n')"
   ]
  },
  {
   "cell_type": "code",
   "execution_count": null,
   "metadata": {},
   "outputs": [
    {
     "name": "stdout",
     "output_type": "stream",
     "text": [
      "Choose a weapon or type 'stop' to exit: >> spock\n",
      "\n",
      "\n",
      "Alright. Now shout with me: ...Rock......Paper......Scissors......Lizard......Spock!\n",
      "\n",
      "You chose spock. The computer chose lizard. Oh no, you lost... Better luck next time!\n",
      "Choose a weapon or type 'stop' to exit: >> lizard\n",
      "\n",
      "\n",
      "Alright. Now shout with me: ...Rock......Paper......Scissors......Lizard......Spock!\n",
      "\n",
      "You both chose lizard. It's a tie!\n"
     ]
    }
   ],
   "source": [
    "#PROTOTYPE\n",
    "\n",
    "import time\n",
    "import random\n",
    "\n",
    "# Set of choices\n",
    "actions = ['rock', 'paper', 'scissors', 'lizard', 'spock']\n",
    "\n",
    "# Player move validation\n",
    "def consist(choice):\n",
    "    choice = choice.lower()\n",
    "    if choice in actions:\n",
    "        return 'gameon'\n",
    "    elif choice == 'help': \n",
    "        return 'help'\n",
    "    else:\n",
    "        raise ValueError(f\"Invalid choice: {choice}. Please choose a valid option.\")\n",
    "\n",
    "# Opponent move generation\n",
    "def opponent():\n",
    "    return random.choice(actions)\n",
    "\n",
    "# Individual game logic functions\n",
    "def rock(play):\n",
    "    return play in ['lizard', 'scissors']\n",
    "\n",
    "def scissors(play):\n",
    "    return play in ['lizard', 'paper']\n",
    "\n",
    "def paper(play):\n",
    "    return play in ['spock', 'rock']\n",
    "\n",
    "def lizard(play):\n",
    "    return play in ['spock', 'paper']\n",
    "\n",
    "def spock(play):\n",
    "    return play in ['rock', 'scissors']\n",
    "\n",
    "# Dictionary mapping moves to their corresponding functions\n",
    "myplays = {\n",
    "    'rock': rock,\n",
    "    'scissors': scissors,\n",
    "    'paper': paper,\n",
    "    'lizard': lizard,\n",
    "    'spock': spock\n",
    "}\n",
    "\n",
    "# Main game function to determine the winner\n",
    "def gameon(myplays, you, comp):\n",
    "    result = myplays[you](comp)\n",
    "    if you == comp:\n",
    "        return ('Tie', you, comp)\n",
    "    elif result:\n",
    "        return ('you', you, comp)\n",
    "    else:\n",
    "        return ('computer', you, comp)\n",
    "\n",
    "# Prompt function to handle player input\n",
    "def myprompt():\n",
    "    x = input(\"Choose a weapon or type 'stop' to exit: >> \")\n",
    "    x = x.lower()\n",
    "    if x == 'stop':\n",
    "        print('\\n\\nThanks for playing. See you next time!\\n\\n')\n",
    "        return None\n",
    "    try:\n",
    "        if consist(x) == 'help':\n",
    "            myhelp()\n",
    "        else:\n",
    "            print(hooray(gameon(myplays, mythrill(x), opponent())))\n",
    "    except ValueError as e:\n",
    "        print(f\"\\n{e}\\nType 'help' to check your options or 'stop' to stop the game.\\n\")\n",
    "    myprompt()\n",
    "\n",
    "# Adds some excitement with a delay and a chant\n",
    "def mythrill(mychoice):\n",
    "    print('\\n\\nAlright. ', end='')\n",
    "    time.sleep(1)\n",
    "    print('Now shout with me: ', end='')\n",
    "    time.sleep(1)\n",
    "    print('...Rock...', end='')\n",
    "    time.sleep(0.5)\n",
    "    print('...Paper...', end='')\n",
    "    time.sleep(0.5)\n",
    "    print('...Scissors...', end='')\n",
    "    time.sleep(0.5)\n",
    "    print('...Lizard...', end='')\n",
    "    time.sleep(0.5)\n",
    "    print('...Spock!', end='\\n\\n')\n",
    "    time.sleep(1)\n",
    "    return mychoice\n",
    "\n",
    "# Display help instructions\n",
    "def myhelp():\n",
    "    myhelpstr = \"\"\"\n",
    "This is my Rock-Paper-Scissors-Lizard-Spock game.\n",
    "\n",
    "You can select among the following weapons:\n",
    "\n",
    "1. Rock: It wins against Lizard or Scissors (crushes the Lizard and breaks the Scissors)\n",
    "2. Paper: Wins against Spock or Rock (disproves Spock and wraps the Rock)\n",
    "3. Scissors: Wins against Lizard and Paper (kills the Lizard or cuts the Paper)\n",
    "4. Lizard: Wins against Spock and Paper (poisons Spock or eats the Paper)\n",
    "5. Spock: Wins against Rock and Scissors (vaporizes the Rock and smashes the Scissors)\n",
    "\n",
    "To choose a weapon, just type its name. No need to type in lower or upper case. The prompt is smart enough to choose the right action here.\n",
    "\n",
    "When you are done, you can leave the game by typing 'stop'.\n",
    "\n",
    "Game on!\n",
    "\"\"\"\n",
    "    print('\\n\\n')\n",
    "    print(myhelpstr, end='\\n\\n')\n",
    "\n",
    "# Output the result of the game\n",
    "def hooray(result):\n",
    "    status, you, comp = result\n",
    "    if status == 'Tie':\n",
    "        return f\"You both chose {you}. It's a tie!\"\n",
    "    elif status == 'you':\n",
    "        return f\"You chose {you}. The computer chose {comp}. Hooray, you won!\"\n",
    "    else:\n",
    "        return f\"You chose {you}. The computer chose {comp}. Oh no, you lost... Better luck next time!\"\n",
    "\n",
    "# Start the game\n",
    "myprompt()"
   ]
  },
  {
   "cell_type": "markdown",
   "metadata": {},
   "source": [
    "**Great work!**"
   ]
  }
 ],
 "metadata": {
  "kernelspec": {
   "display_name": "Python 3 (ipykernel)",
   "language": "python",
   "name": "python3"
  },
  "language_info": {
   "codemirror_mode": {
    "name": "ipython",
    "version": 3
   },
   "file_extension": ".py",
   "mimetype": "text/x-python",
   "name": "python",
   "nbconvert_exporter": "python",
   "pygments_lexer": "ipython3",
   "version": "3.11.0"
  },
  "varInspector": {
   "cols": {
    "lenName": 16,
    "lenType": 16,
    "lenVar": 40
   },
   "kernels_config": {
    "python": {
     "delete_cmd_postfix": "",
     "delete_cmd_prefix": "del ",
     "library": "var_list.py",
     "varRefreshCmd": "print(var_dic_list())"
    },
    "r": {
     "delete_cmd_postfix": ") ",
     "delete_cmd_prefix": "rm(",
     "library": "var_list.r",
     "varRefreshCmd": "cat(var_dic_list()) "
    }
   },
   "types_to_exclude": [
    "module",
    "function",
    "builtin_function_or_method",
    "instance",
    "_Feature"
   ],
   "window_display": false
  }
 },
 "nbformat": 4,
 "nbformat_minor": 4
}
