{
 "cells": [
  {
   "cell_type": "markdown",
   "metadata": {
    "tags": []
   },
   "source": [
    "# Rock Paper Scissors Game\n",
    "\n",
    "\n",
    " This is a creative spin on the traditional rock paper scissors game, which includes additional lizard and spock options. The user plays against the computer. \n",
    "This project demonstrates an understanding of recursion and funcitonal programming in Python. \n",
    " \n",
    "\n",
    "## Game Set Up: \n",
    "\n",
    "1. The user and computer choose one of the following weapons:\n",
    "    - Rock (in red)\n",
    "    - Paper (in yellow)\n",
    "    - Scissors (in purple)\n",
    "    - Lizard (puppet-like hand, in green)\n",
    "    - Spock (Vulcan salutation, in blue)\n",
    "    \n",
    "2. Here are the winning outcomes: \n",
    "    - Rock: Wins against Lizard or Scissors (crushes the Lizard and breaks the Scissor)\n",
    "    - Paper: Wins against Spock or Rock (disproves Spock and wraps the Rock)\n",
    "    - Scissors: Wins against Lizard and Paper (kills the Lizard or cuts the Paper)\n",
    "    - Lizard: Wins against Spock and Paper (poisons Spock or eats the Paper)\n",
    "    - Spock: Wins against Rock and Paper (vaporizes the Rock and smashes the Scissors)\n",
    "\n",
    "![rpsls](https://upload.wikimedia.org/wikipedia/commons/a/ad/Pierre_ciseaux_feuille_l%C3%A9zard_spock_aligned.svg)"
   ]
  },
  {
   "cell_type": "code",
   "execution_count": 1,
   "metadata": {
    "tags": []
   },
   "outputs": [],
   "source": [
    "# import packages\n",
    "import time\n",
    "import random\n",
    "\n",
    "# Set all choices\n",
    "actions = ['rock', 'paper', 'scissors','lizard', 'spock']"
   ]
  },
  {
   "cell_type": "markdown",
   "metadata": {},
   "source": [
    "First, I created a function that receives the user's choice and checks that it is a valid input. \n",
    "\n",
    "If the user enters an invalid input, a ValueError is raised. \n",
    "\n",
    "- `help` if the user enters `help` as its argument.\n",
    "\n",
    "- `gameon` if the user enters something in the actions set.\n",
    "\n",
    "- Raise a `ValueError` if the user enters anything different than that."
   ]
  },
  {
   "cell_type": "code",
   "execution_count": 2,
   "metadata": {},
   "outputs": [
    {
     "ename": "NameError",
     "evalue": "name 'choice' is not defined",
     "output_type": "error",
     "traceback": [
      "\u001b[0;31m---------------------------------------------------------------------------\u001b[0m",
      "\u001b[0;31mNameError\u001b[0m                                 Traceback (most recent call last)",
      "Cell \u001b[0;32mIn[2], line 10\u001b[0m\n\u001b[1;32m      7\u001b[0m     \u001b[38;5;28;01melse\u001b[39;00m:\n\u001b[1;32m      8\u001b[0m         \u001b[38;5;28;01mraise\u001b[39;00m  \u001b[38;5;167;01mValueError\u001b[39;00m(\u001b[38;5;124mf\u001b[39m\u001b[38;5;124m\"\u001b[39m\u001b[38;5;124mInvalid choice: \u001b[39m\u001b[38;5;132;01m{\u001b[39;00mchoice\u001b[38;5;132;01m}\u001b[39;00m\u001b[38;5;124m. Please choose a valid option.\u001b[39m\u001b[38;5;124m\"\u001b[39m)\n\u001b[0;32m---> 10\u001b[0m consist(choice)\n",
      "\u001b[0;31mNameError\u001b[0m: name 'choice' is not defined"
     ]
    }
   ],
   "source": [
    "def consist(choice):\n",
    "    choice = choice.lower()\n",
    "    if choice in actions:\n",
    "        return 'gameon'\n",
    "    elif choice == 'help': \n",
    "        return 'help'\n",
    "    else:\n",
    "        raise  ValueError(f\"Invalid choice: {choice}. Please choose a valid option.\")\n",
    "          \n",
    "consist(choice)"
   ]
  },
  {
   "cell_type": "code",
   "execution_count": 4,
   "metadata": {},
   "outputs": [
    {
     "ename": "NameError",
     "evalue": "name 'choice' is not defined",
     "output_type": "error",
     "traceback": [
      "\u001b[0;31m---------------------------------------------------------------------------\u001b[0m",
      "\u001b[0;31mNameError\u001b[0m                                 Traceback (most recent call last)",
      "Cell \u001b[0;32mIn[4], line 18\u001b[0m\n\u001b[1;32m     15\u001b[0m     \u001b[38;5;66;03m# If the choice is neither valid nor 'help', raise an error with a custom message\u001b[39;00m\n\u001b[1;32m     16\u001b[0m     \u001b[38;5;28;01melse\u001b[39;00m:\n\u001b[1;32m     17\u001b[0m         \u001b[38;5;28;01mraise\u001b[39;00m \u001b[38;5;167;01mValueError\u001b[39;00m(\u001b[38;5;124mf\u001b[39m\u001b[38;5;124m\"\u001b[39m\u001b[38;5;124mInvalid choice: \u001b[39m\u001b[38;5;132;01m{\u001b[39;00mchoice\u001b[38;5;132;01m}\u001b[39;00m\u001b[38;5;124m. Please choose a valid option.\u001b[39m\u001b[38;5;124m\"\u001b[39m)\n\u001b[0;32m---> 18\u001b[0m consist(choice)\n",
      "\u001b[0;31mNameError\u001b[0m: name 'choice' is not defined"
     ]
    }
   ],
   "source": [
    "def consist(choice):\n",
    "    \"\"\"\n",
    "    This function checks if the user's choice is a valid action or 'help'.\n",
    "    It returns 'gameon' if the choice is a valid action, 'help' if the user asks for help,\n",
    "    and raises a ValueError if the choice is invalid.\n",
    "    \"\"\"\n",
    "    choice = choice.lower()#make case insensitive\n",
    "    \n",
    "    # Check if the choice is one of the valid actions defined in the 'actions' list\n",
    "    #Checks if the user asks for help\n",
    "    if choice in actions:\n",
    "        return 'gameon'\n",
    "    elif choice == 'help': \n",
    "        return 'help' \n",
    "    # If the choice is neither valid nor 'help', raise an error with a custom message\n",
    "    else:\n",
    "        raise ValueError(f\"Invalid choice: {choice}. Please choose a valid option.\")\n",
    "consist(choice)\n"
   ]
  },
  {
   "cell_type": "markdown",
   "metadata": {},
   "source": [
    "**Question 2:** The `opponent` player is a function that, when called, spits out a randomly selected choice in the choice set. Write this function.\n",
    "\n",
    "*Hint:* Check the [documentation](https://docs.python.org/3/library/random.html) for the choice function in the random library."
   ]
  },
  {
   "cell_type": "code",
   "execution_count": null,
   "metadata": {},
   "outputs": [],
   "source": [
    "def opponent():\n",
    "    return random.choice(actions)   # Single random element from a sequence"
   ]
  },
  {
   "cell_type": "markdown",
   "metadata": {},
   "source": [
    "**Question 3:** Implement a function called `rock`. It receives a play and returns `True` if the rock beats the play and `False` if it ties or the rock loses."
   ]
  },
  {
   "cell_type": "code",
   "execution_count": null,
   "metadata": {},
   "outputs": [],
   "source": [
    "def rock(play):\n",
    "    return play in ['lizard', 'scissors']\n",
    "\n",
    "#WHAT I HAD BEFORE \n",
    "#     if play == 'lizard' or play == 'scissors': # Explicit comparison\n",
    "#         return True\n",
    "#     elif play == 'rock': \n",
    "#         return False\n",
    "#     else: \n",
    "#         return False\n",
    "# play = 'scissors'\n",
    "# rock(play)"
   ]
  },
  {
   "cell_type": "markdown",
   "metadata": {},
   "source": [
    "**Question 4:** Implement a function called `scissors`. It receives a play and returns `True` if the scissors beats the play and `False` if it ties or the scissors loses."
   ]
  },
  {
   "cell_type": "code",
   "execution_count": null,
   "metadata": {},
   "outputs": [],
   "source": [
    "def scissors(play):\n",
    "    return play in ['lizard', 'paper']\n",
    "\n",
    "\n",
    "#     if play == 'lizard' or play == 'paper': # Explicit comparison\n",
    "#         return True\n",
    "#     elif play == 'scissors': # TIE\n",
    "#         return False\n",
    "#     else: \n",
    "#         return False\n",
    "    \n",
    "# play = 'lizard'\n",
    "# scissors(play)   "
   ]
  },
  {
   "cell_type": "markdown",
   "metadata": {},
   "source": [
    "**Question 5:** Implement a function called `paper`. It receives a play and returns `True` if the paper beats the play and `False` if it ties or paper loses."
   ]
  },
  {
   "cell_type": "code",
   "execution_count": null,
   "metadata": {},
   "outputs": [],
   "source": [
    "def paper(play):\n",
    "    return play in ['spock', 'rock']\n",
    "\n",
    "#     if play == 'spock' or play == 'rock': # Explicit comparison\n",
    "#         return True\n",
    "#     elif play == 'paper': # TIE\n",
    "#         return False\n",
    "#     else: \n",
    "#         return False\n",
    "# play = 'rock'\n",
    "# paper(play) \n",
    "    "
   ]
  },
  {
   "cell_type": "markdown",
   "metadata": {},
   "source": [
    "**Question 6:** Implement a function called `lizard`. It receives a play and returns `True` if the lizard beats the play and `False` if it ties or lizard loses."
   ]
  },
  {
   "cell_type": "code",
   "execution_count": null,
   "metadata": {},
   "outputs": [],
   "source": [
    "def lizard(play):\n",
    "    return play in ['spock', 'paper']\n",
    "\n",
    "#     if play == 'spock' or play == 'paper': # Explicit comparison\n",
    "#         return True\n",
    "#     elif play == 'lizard': # TIE\n",
    "#         return False\n",
    "#     else: \n",
    "#         return False\n",
    "\n",
    "# play = 'lizard'\n",
    "#lizard(play) \n",
    "    "
   ]
  },
  {
   "cell_type": "markdown",
   "metadata": {},
   "source": [
    "**Question 7:** Implement a function called `spock`. It receives a play and returns `True` if the spock beats the play and `False` if it ties or spock loses."
   ]
  },
  {
   "cell_type": "code",
   "execution_count": null,
   "metadata": {},
   "outputs": [],
   "source": [
    "def spock(play):\n",
    "    return play in ['rock', 'scissors']\n",
    "#     if play == 'rock' or play == 'paper': # Explicit comparison\n",
    "#         return True\n",
    "#     elif play == 'spock': # TIE\n",
    "#         return False\n",
    "#     else: \n",
    "#         return False\n",
    "\n",
    "# play = 'spock'\n",
    "# spock(play) \n",
    "    "
   ]
  },
  {
   "cell_type": "markdown",
   "metadata": {},
   "source": [
    "**Question 8:** Save the functions in a dictionary called `myplays`. The keys in the dictionary has to have the same names as these functions. Hint: It should be a one-line solution using `dict` and `zip`."
   ]
  },
  {
   "cell_type": "code",
   "execution_count": null,
   "metadata": {},
   "outputs": [],
   "source": [
    "myplays = dict(zip(['rock', 'scissors', 'paper', 'lizard', 'spock'], [rock, scissors, paper, lizard, spock]))"
   ]
  },
  {
   "cell_type": "markdown",
   "metadata": {},
   "source": [
    "**Question 9:** Now we implement the `gameon` function. This function has to receive:\n",
    "\n",
    "1. The dictionary with functions\n",
    "\n",
    "2. The two choices\n",
    "\n",
    "Then, based on that, it has to determine the winner. The function should return a tuple with three elements:\n",
    "\n",
    "Element 1: One of the three:\n",
    "\n",
    "1. `you`: E.g., you played `spock` and the computer played `rock`\n",
    "\n",
    "2. `computer`: E.g., you played `lizard` and the computer played `scissors`\n",
    "\n",
    "3. `tie`: E.g., both you and the computer played `paper`.\n",
    "\n",
    "Element 2: Your choice\n",
    "\n",
    "Element 3: Computer's choice\n",
    "\n",
    "Example:\n",
    "\n",
    "```\n",
    ">> gameon(myplays, 'rock', 'paper')\n",
    "('computer', 'rock', 'paper')\n",
    "```"
   ]
  },
  {
   "cell_type": "code",
   "execution_count": null,
   "metadata": {},
   "outputs": [],
   "source": [
    "def gameon(myplays, you, comp):\n",
    "    result = myplays[you](comp) \n",
    "    if you == comp:\n",
    "        return (('Tie', you, comp))\n",
    "    if result:\n",
    "        return ('you', you, comp)\n",
    "    else:\n",
    "        return ('computer', you, comp)\n",
    "    \n",
    "#gameon(myplays, 'scissors', 'paper')\n",
    "\n"
   ]
  },
  {
   "cell_type": "code",
   "execution_count": null,
   "metadata": {},
   "outputs": [],
   "source": [
    "# # Determine Outcome: Determine Outcome:\n",
    "# Determine Outcome: Determine Outcome:\n",
    "\n",
    "# Use the player’s choice (your_choice) to retrieve the corresponding function from the myplays dictionary.\n",
    "# Call this function with the computer’s choice as an argument.\n",
    "# If the function returns True, it means the player wins, so return ('you', your_choice, computer_choice).\n",
    "# If the function returns False, the computer wins, so return ('computer', your_choice, computer_choice).\n",
    "    "
   ]
  },
  {
   "cell_type": "markdown",
   "metadata": {},
   "source": [
    "**Question 10:** Write the `hooray` function. It takes the winner and celebrates them. It receives the result from the `gameon` function (a tuple), and it prints:\n",
    "\n",
    "```\n",
    "You choose: [YOUR CHOICE]\n",
    "The computer chose: [COMPUTER'S CHOICE]\n",
    "\n",
    "[INSPIRATION HERE]\n",
    "```\n",
    "\n",
    "- If `you` win, then the inspiration should be: `Hooray, you won!`\n",
    "\n",
    "- If the `computer` wins, then the inspiration should be: `Oh no, you lost... Better luck next time!`\n",
    "\n",
    "- If it was a `tie`, then the inspiration should be: `It was a tie. Keep up, you got this!`\n",
    "\n",
    "An example of an output would be:\n",
    "\n",
    "```\n",
    "You choose: Rock\n",
    "The computer chose: Spock\n",
    "\n",
    "Oh no, you lost... Better luck next time!\n",
    "```"
   ]
  },
  {
   "cell_type": "code",
   "execution_count": null,
   "metadata": {},
   "outputs": [],
   "source": [
    "# def hooray(result):\n",
    "    \n",
    "#     if result: \n",
    "#                 f\"\"\"\n",
    "#         You chose: {you}\n",
    "#         The computer chose: {comp}\n",
    "\n",
    "#         Hooray, you won!\n",
    "#         \"\"\"\n",
    "#     elif result == False: \n",
    "#                         f\"\"\"\n",
    "#         You chose: {you}\n",
    "#         The computer chose: {comp}\n",
    "\n",
    "#         Oh no, you lost... Better luck next time!\"\"\"\n",
    "    "
   ]
  },
  {
   "cell_type": "code",
   "execution_count": null,
   "metadata": {},
   "outputs": [],
   "source": [
    "def hooray(result):\n",
    "    status, you, comp = result\n",
    "    if status == 'Tie':\n",
    "        return f\"You both chose {you}. It's a tie!\"\n",
    "    elif status == 'you':\n",
    "        return f\"You chose {you}. The computer chose {comp}. Hooray, you won!\"\n",
    "    else:\n",
    "        return f\"You chose {you}. The computer chose {comp}. Oh no, you lost... Better luck next time!\"\n"
   ]
  },
  {
   "cell_type": "code",
   "execution_count": null,
   "metadata": {},
   "outputs": [],
   "source": [
    "myprompt()\n",
    "    "
   ]
  },
  {
   "cell_type": "markdown",
   "metadata": {},
   "source": [
    "Now, let's play the game!"
   ]
  },
  {
   "cell_type": "code",
   "execution_count": null,
   "metadata": {},
   "outputs": [],
   "source": [
    "# A prompt function for you\n",
    "def myprompt():\n",
    "    x = input(\"Choose a weapon or stop: >> \")\n",
    "    x = x.lower()\n",
    "    if x == 'stop':\n",
    "        print('\\n\\nThanks for playing. See you next time!', end = '\\n\\n')\n",
    "        return None\n",
    "    try:\n",
    "        if consist(x) == 'help':\n",
    "            myhelp()\n",
    "        else:\n",
    "            # And this is why using FP is cool:\n",
    "            print(hooray(gameon(myplays, mythrill(x), opponent())))\n",
    "    except:\n",
    "        print(\"\\nThis selection is invalid. Type 'help' to check your options or 'stop' to stop the game.\\n\")\n",
    "    myprompt()\n",
    "    \n",
    "\n",
    "# A thriller function\n",
    "def mythrill(mychoice):\n",
    "    print('\\n\\nAlright. ', end = '')\n",
    "    time.sleep(1)\n",
    "    print('Now shout with me: ', end = '')\n",
    "    time.sleep(1)\n",
    "    print('...Rock...', end = '')\n",
    "    time.sleep(0.5)\n",
    "    print('...Paper...', end = '')\n",
    "    time.sleep(0.5)\n",
    "    print('...Scissors...', end = '')\n",
    "    time.sleep(0.5)\n",
    "    print('...Lizard...', end = '')\n",
    "    time.sleep(0.5)\n",
    "    print('...Spock!', end = '\\n\\n')\n",
    "    time.sleep(1)\n",
    "    return mychoice\n",
    "\n",
    "# A help function for you\n",
    "def myhelp():\n",
    "    myhelpstr = \"\"\"\n",
    "This is my Rock-Paper-Scissors-Lizard-Spock game.\n",
    "\n",
    "You can select among the following weapons:\n",
    "\n",
    "1. Rock: It wins against Lizard or Scissors (crushes the Lizard and breaks the Scissor)\n",
    "\n",
    "2. Paper: Wins against Spock or Rock (disproves Spock and wraps the Rock)\n",
    "\n",
    "3. Scissors: Wins against Lizard and Paper (kills the Lizard or cuts the Paper)\n",
    "\n",
    "4. Lizard: Wins against Spock and Paper (poisons Spock or eats the Paper)\n",
    "\n",
    "5. Spock: Wins against Rock and Paper (vaporizes the Rock and smashes the Scissors)\n",
    "\n",
    "To choose a weapon, just type its name. No need to type in lower or upper case. The prompt is smart \n",
    "enough to choose the right action here.\n",
    "\n",
    "When you are done, you can leave the game by typing 'stop'.\n",
    "\n",
    "Game on!\n",
    "\"\"\"\n",
    "    print('\\n\\n')\n",
    "    print(myhelpstr, end = '\\n\\n')"
   ]
  },
  {
   "cell_type": "code",
   "execution_count": 3,
   "metadata": {},
   "outputs": [
    {
     "name": "stdout",
     "output_type": "stream",
     "text": [
      "Choose a weapon or type 'stop' to exit: >> rock\n",
      "\n",
      "\n",
      "Alright. Now shout with me: ...Rock......Paper......Scissors......Lizard......Spock!\n",
      "\n",
      "You chose rock. The computer chose lizard. Hooray, you won!\n"
     ]
    },
    {
     "ename": "KeyboardInterrupt",
     "evalue": "Interrupted by user",
     "output_type": "error",
     "traceback": [
      "\u001b[0;31m---------------------------------------------------------------------------\u001b[0m",
      "\u001b[0;31mKeyboardInterrupt\u001b[0m                         Traceback (most recent call last)",
      "Cell \u001b[0;32mIn[3], line 125\u001b[0m\n\u001b[1;32m    122\u001b[0m         \u001b[38;5;28;01mreturn\u001b[39;00m \u001b[38;5;124mf\u001b[39m\u001b[38;5;124m\"\u001b[39m\u001b[38;5;124mYou chose \u001b[39m\u001b[38;5;132;01m{\u001b[39;00myou\u001b[38;5;132;01m}\u001b[39;00m\u001b[38;5;124m. The computer chose \u001b[39m\u001b[38;5;132;01m{\u001b[39;00mcomp\u001b[38;5;132;01m}\u001b[39;00m\u001b[38;5;124m. Oh no, you lost... Better luck next time!\u001b[39m\u001b[38;5;124m\"\u001b[39m\n\u001b[1;32m    124\u001b[0m \u001b[38;5;66;03m# Start the game\u001b[39;00m\n\u001b[0;32m--> 125\u001b[0m myprompt()\n",
      "Cell \u001b[0;32mIn[3], line 72\u001b[0m, in \u001b[0;36mmyprompt\u001b[0;34m()\u001b[0m\n\u001b[1;32m     70\u001b[0m \u001b[38;5;28;01mexcept\u001b[39;00m \u001b[38;5;167;01mValueError\u001b[39;00m \u001b[38;5;28;01mas\u001b[39;00m e:\n\u001b[1;32m     71\u001b[0m     \u001b[38;5;28mprint\u001b[39m(\u001b[38;5;124mf\u001b[39m\u001b[38;5;124m\"\u001b[39m\u001b[38;5;130;01m\\n\u001b[39;00m\u001b[38;5;132;01m{\u001b[39;00me\u001b[38;5;132;01m}\u001b[39;00m\u001b[38;5;130;01m\\n\u001b[39;00m\u001b[38;5;124mType \u001b[39m\u001b[38;5;124m'\u001b[39m\u001b[38;5;124mhelp\u001b[39m\u001b[38;5;124m'\u001b[39m\u001b[38;5;124m to check your options or \u001b[39m\u001b[38;5;124m'\u001b[39m\u001b[38;5;124mstop\u001b[39m\u001b[38;5;124m'\u001b[39m\u001b[38;5;124m to stop the game.\u001b[39m\u001b[38;5;130;01m\\n\u001b[39;00m\u001b[38;5;124m\"\u001b[39m)\n\u001b[0;32m---> 72\u001b[0m myprompt()\n",
      "Cell \u001b[0;32mIn[3], line 60\u001b[0m, in \u001b[0;36mmyprompt\u001b[0;34m()\u001b[0m\n\u001b[1;32m     59\u001b[0m \u001b[38;5;28;01mdef\u001b[39;00m \u001b[38;5;21mmyprompt\u001b[39m():\n\u001b[0;32m---> 60\u001b[0m     x \u001b[38;5;241m=\u001b[39m \u001b[38;5;28minput\u001b[39m(\u001b[38;5;124m\"\u001b[39m\u001b[38;5;124mChoose a weapon or type \u001b[39m\u001b[38;5;124m'\u001b[39m\u001b[38;5;124mstop\u001b[39m\u001b[38;5;124m'\u001b[39m\u001b[38;5;124m to exit: >> \u001b[39m\u001b[38;5;124m\"\u001b[39m)\n\u001b[1;32m     61\u001b[0m     x \u001b[38;5;241m=\u001b[39m x\u001b[38;5;241m.\u001b[39mlower()\n\u001b[1;32m     62\u001b[0m     \u001b[38;5;28;01mif\u001b[39;00m x \u001b[38;5;241m==\u001b[39m \u001b[38;5;124m'\u001b[39m\u001b[38;5;124mstop\u001b[39m\u001b[38;5;124m'\u001b[39m:\n",
      "File \u001b[0;32m~/anaconda3/lib/python3.11/site-packages/ipykernel/kernelbase.py:1175\u001b[0m, in \u001b[0;36mKernel.raw_input\u001b[0;34m(self, prompt)\u001b[0m\n\u001b[1;32m   1171\u001b[0m \u001b[38;5;28;01mif\u001b[39;00m \u001b[38;5;129;01mnot\u001b[39;00m \u001b[38;5;28mself\u001b[39m\u001b[38;5;241m.\u001b[39m_allow_stdin:\n\u001b[1;32m   1172\u001b[0m     \u001b[38;5;28;01mraise\u001b[39;00m StdinNotImplementedError(\n\u001b[1;32m   1173\u001b[0m         \u001b[38;5;124m\"\u001b[39m\u001b[38;5;124mraw_input was called, but this frontend does not support input requests.\u001b[39m\u001b[38;5;124m\"\u001b[39m\n\u001b[1;32m   1174\u001b[0m     )\n\u001b[0;32m-> 1175\u001b[0m \u001b[38;5;28;01mreturn\u001b[39;00m \u001b[38;5;28mself\u001b[39m\u001b[38;5;241m.\u001b[39m_input_request(\n\u001b[1;32m   1176\u001b[0m     \u001b[38;5;28mstr\u001b[39m(prompt),\n\u001b[1;32m   1177\u001b[0m     \u001b[38;5;28mself\u001b[39m\u001b[38;5;241m.\u001b[39m_parent_ident[\u001b[38;5;124m\"\u001b[39m\u001b[38;5;124mshell\u001b[39m\u001b[38;5;124m\"\u001b[39m],\n\u001b[1;32m   1178\u001b[0m     \u001b[38;5;28mself\u001b[39m\u001b[38;5;241m.\u001b[39mget_parent(\u001b[38;5;124m\"\u001b[39m\u001b[38;5;124mshell\u001b[39m\u001b[38;5;124m\"\u001b[39m),\n\u001b[1;32m   1179\u001b[0m     password\u001b[38;5;241m=\u001b[39m\u001b[38;5;28;01mFalse\u001b[39;00m,\n\u001b[1;32m   1180\u001b[0m )\n",
      "File \u001b[0;32m~/anaconda3/lib/python3.11/site-packages/ipykernel/kernelbase.py:1217\u001b[0m, in \u001b[0;36mKernel._input_request\u001b[0;34m(self, prompt, ident, parent, password)\u001b[0m\n\u001b[1;32m   1214\u001b[0m             \u001b[38;5;28;01mbreak\u001b[39;00m\n\u001b[1;32m   1215\u001b[0m \u001b[38;5;28;01mexcept\u001b[39;00m \u001b[38;5;167;01mKeyboardInterrupt\u001b[39;00m:\n\u001b[1;32m   1216\u001b[0m     \u001b[38;5;66;03m# re-raise KeyboardInterrupt, to truncate traceback\u001b[39;00m\n\u001b[0;32m-> 1217\u001b[0m     \u001b[38;5;28;01mraise\u001b[39;00m \u001b[38;5;167;01mKeyboardInterrupt\u001b[39;00m(\u001b[38;5;124m\"\u001b[39m\u001b[38;5;124mInterrupted by user\u001b[39m\u001b[38;5;124m\"\u001b[39m) \u001b[38;5;28;01mfrom\u001b[39;00m \u001b[38;5;28;01mNone\u001b[39;00m\n\u001b[1;32m   1218\u001b[0m \u001b[38;5;28;01mexcept\u001b[39;00m \u001b[38;5;167;01mException\u001b[39;00m:\n\u001b[1;32m   1219\u001b[0m     \u001b[38;5;28mself\u001b[39m\u001b[38;5;241m.\u001b[39mlog\u001b[38;5;241m.\u001b[39mwarning(\u001b[38;5;124m\"\u001b[39m\u001b[38;5;124mInvalid Message:\u001b[39m\u001b[38;5;124m\"\u001b[39m, exc_info\u001b[38;5;241m=\u001b[39m\u001b[38;5;28;01mTrue\u001b[39;00m)\n",
      "\u001b[0;31mKeyboardInterrupt\u001b[0m: Interrupted by user"
     ]
    }
   ],
   "source": [
    "#PROTOTYPE\n",
    "\n",
    "import time\n",
    "import random\n",
    "\n",
    "# Set of choices\n",
    "actions = ['rock', 'paper', 'scissors', 'lizard', 'spock']\n",
    "\n",
    "# Player move validation\n",
    "def consist(choice):\n",
    "    choice = choice.lower()\n",
    "    if choice in actions:\n",
    "        return 'gameon'\n",
    "    elif choice == 'help': \n",
    "        return 'help'\n",
    "    else:\n",
    "        raise ValueError(f\"Invalid choice: {choice}. Please choose a valid option.\")\n",
    "\n",
    "# Opponent move generation\n",
    "def opponent():\n",
    "    return random.choice(actions)\n",
    "\n",
    "# Individual game logic functions\n",
    "def rock(play):\n",
    "    return play in ['lizard', 'scissors']\n",
    "\n",
    "def scissors(play):\n",
    "    return play in ['lizard', 'paper']\n",
    "\n",
    "def paper(play):\n",
    "    return play in ['spock', 'rock']\n",
    "\n",
    "def lizard(play):\n",
    "    return play in ['spock', 'paper']\n",
    "\n",
    "def spock(play):\n",
    "    return play in ['rock', 'scissors']\n",
    "\n",
    "# Dictionary mapping moves to their corresponding functions\n",
    "myplays = {\n",
    "    'rock': rock,\n",
    "    'scissors': scissors,\n",
    "    'paper': paper,\n",
    "    'lizard': lizard,\n",
    "    'spock': spock\n",
    "}\n",
    "\n",
    "# Main game function to determine the winner\n",
    "def gameon(myplays, you, comp):\n",
    "    result = myplays[you](comp)\n",
    "    if you == comp:\n",
    "        return ('Tie', you, comp)\n",
    "    elif result:\n",
    "        return ('you', you, comp)\n",
    "    else:\n",
    "        return ('computer', you, comp)\n",
    "\n",
    "# Prompt function to handle player input\n",
    "def myprompt():\n",
    "    x = input(\"Choose a weapon or type 'stop' to exit: >> \")\n",
    "    x = x.lower()\n",
    "    if x == 'stop':\n",
    "        print('\\n\\nThanks for playing. See you next time!\\n\\n')\n",
    "        return None\n",
    "    try:\n",
    "        if consist(x) == 'help':\n",
    "            myhelp()\n",
    "        else:\n",
    "            print(hooray(gameon(myplays, mythrill(x), opponent())))\n",
    "    except ValueError as e:\n",
    "        print(f\"\\n{e}\\nType 'help' to check your options or 'stop' to stop the game.\\n\")\n",
    "    myprompt()\n",
    "\n",
    "# Adds some excitement with a delay and a chant\n",
    "def mythrill(mychoice):\n",
    "    print('\\n\\nAlright. ', end='')\n",
    "    time.sleep(1)\n",
    "    print('Now shout with me: ', end='')\n",
    "    time.sleep(1)\n",
    "    print('...Rock...', end='')\n",
    "    time.sleep(0.5)\n",
    "    print('...Paper...', end='')\n",
    "    time.sleep(0.5)\n",
    "    print('...Scissors...', end='')\n",
    "    time.sleep(0.5)\n",
    "    print('...Lizard...', end='')\n",
    "    time.sleep(0.5)\n",
    "    print('...Spock!', end='\\n\\n')\n",
    "    time.sleep(1)\n",
    "    return mychoice\n",
    "\n",
    "# Display help instructions\n",
    "def myhelp():\n",
    "    myhelpstr = \"\"\"\n",
    "This is my Rock-Paper-Scissors-Lizard-Spock game.\n",
    "\n",
    "You can select among the following weapons:\n",
    "\n",
    "1. Rock: It wins against Lizard or Scissors (crushes the Lizard and breaks the Scissors)\n",
    "2. Paper: Wins against Spock or Rock (disproves Spock and wraps the Rock)\n",
    "3. Scissors: Wins against Lizard and Paper (kills the Lizard or cuts the Paper)\n",
    "4. Lizard: Wins against Spock and Paper (poisons Spock or eats the Paper)\n",
    "5. Spock: Wins against Rock and Scissors (vaporizes the Rock and smashes the Scissors)\n",
    "\n",
    "To choose a weapon, just type its name. No need to type in lower or upper case. The prompt is smart enough to choose the right action here.\n",
    "\n",
    "When you are done, you can leave the game by typing 'stop'.\n",
    "\n",
    "Game on!\n",
    "\"\"\"\n",
    "    print('\\n\\n')\n",
    "    print(myhelpstr, end='\\n\\n')\n",
    "\n",
    "# Output the result of the game\n",
    "def hooray(result):\n",
    "    status, you, comp = result\n",
    "    if status == 'Tie':\n",
    "        return f\"You both chose {you}. It's a tie!\"\n",
    "    elif status == 'you':\n",
    "        return f\"You chose {you}. The computer chose {comp}. Hooray, you won!\"\n",
    "    else:\n",
    "        return f\"You chose {you}. The computer chose {comp}. Oh no, you lost... Better luck next time!\"\n",
    "\n",
    "# Start the game\n",
    "myprompt()"
   ]
  },
  {
   "cell_type": "markdown",
   "metadata": {},
   "source": [
    "**Great work!**"
   ]
  }
 ],
 "metadata": {
  "kernelspec": {
   "display_name": "Python 3 (ipykernel)",
   "language": "python",
   "name": "python3"
  },
  "language_info": {
   "codemirror_mode": {
    "name": "ipython",
    "version": 3
   },
   "file_extension": ".py",
   "mimetype": "text/x-python",
   "name": "python",
   "nbconvert_exporter": "python",
   "pygments_lexer": "ipython3",
   "version": "3.11.0"
  },
  "varInspector": {
   "cols": {
    "lenName": 16,
    "lenType": 16,
    "lenVar": 40
   },
   "kernels_config": {
    "python": {
     "delete_cmd_postfix": "",
     "delete_cmd_prefix": "del ",
     "library": "var_list.py",
     "varRefreshCmd": "print(var_dic_list())"
    },
    "r": {
     "delete_cmd_postfix": ") ",
     "delete_cmd_prefix": "rm(",
     "library": "var_list.r",
     "varRefreshCmd": "cat(var_dic_list()) "
    }
   },
   "types_to_exclude": [
    "module",
    "function",
    "builtin_function_or_method",
    "instance",
    "_Feature"
   ],
   "window_display": false
  }
 },
 "nbformat": 4,
 "nbformat_minor": 4
}
